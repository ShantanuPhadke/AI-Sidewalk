{
 "cells": [
  {
   "cell_type": "markdown",
   "metadata": {},
   "source": [
    "## Imports"
   ]
  },
  {
   "cell_type": "code",
   "execution_count": 1,
   "metadata": {},
   "outputs": [],
   "source": [
    "import numpy as np\n",
    "import pandas as pd\n",
    "from sklearn.model_selection import train_test_split\n",
    "from sklearn.preprocessing import StandardScaler\n",
    "from sklearn.metrics import accuracy_score"
   ]
  },
  {
   "cell_type": "markdown",
   "metadata": {},
   "source": [
    "## Train-Test Splitting the Data"
   ]
  },
  {
   "cell_type": "code",
   "execution_count": 2,
   "metadata": {},
   "outputs": [],
   "source": [
    "malignancy_df = pd.read_csv('data/data.csv')\n",
    "malignancy_Y_df = malignancy_df['diagnosis']\n",
    "malignancy_Y_df = malignancy_Y_df.replace('M', -1)\n",
    "malignancy_Y_df = malignancy_Y_df.replace('B', 1)\n",
    "malignancy_X_df = malignancy_df.drop(columns=['diagnosis'])\n",
    "X_train, X_test, Y_train, Y_test = train_test_split(malignancy_X_df, malignancy_Y_df, test_size=0.2, random_state=42)\n",
    "X_train.to_csv('data/train.csv', header=True)\n",
    "Y_train.to_csv('data/train_labels.csv', header=True)\n",
    "X_test.to_csv('data/test.csv', header=True)\n",
    "Y_test.to_csv('data/test_labels.csv', header=True)"
   ]
  },
  {
   "cell_type": "markdown",
   "metadata": {},
   "source": [
    "## Re-Reading in Without Headers"
   ]
  },
  {
   "cell_type": "code",
   "execution_count": 3,
   "metadata": {},
   "outputs": [],
   "source": [
    "X_train = pd.read_csv('data/train.csv').values[:,:-1]\n",
    "X_test = pd.read_csv('data/test.csv').values[:,:-1]\n",
    "Y_train = pd.read_csv('data/train_labels.csv').values[:,1:]\n",
    "Y_test = pd.read_csv('data/test_labels.csv').values[:,1:]"
   ]
  },
  {
   "cell_type": "markdown",
   "metadata": {},
   "source": [
    "## Standardizing the Data"
   ]
  },
  {
   "cell_type": "code",
   "execution_count": 4,
   "metadata": {},
   "outputs": [],
   "source": [
    "scaler = StandardScaler()\n",
    "scaler.fit(X_train)\n",
    "X_train = scaler.transform(X_train)\n",
    "X_test = scaler.transform(X_test)"
   ]
  },
  {
   "cell_type": "markdown",
   "metadata": {},
   "source": [
    "## SVM Model"
   ]
  },
  {
   "cell_type": "code",
   "execution_count": 7,
   "metadata": {},
   "outputs": [],
   "source": [
    "class BinarySVM():\n",
    "    def __init__(self, C=0.0001, max_iterations=100, learning_rate=0.001):\n",
    "        ''' Constructor to make our objects. To be defined. '''\n",
    "        self.C = C\n",
    "        self.max_iterations = max_iterations\n",
    "        self.learning_rate = learning_rate\n",
    "            \n",
    "    def fit(self, X_train, Y_train):\n",
    "        ''' Method to fit, or train our SVM model(s). To be defined. '''\n",
    "        # (Step 1): Randomly set the weights\n",
    "        self.weights = np.random.random((X_train.shape[1],))\n",
    "        # (Step 2): Train the weights for self.max_iterations\n",
    "        for iteration in range(self.max_iterations):\n",
    "            iteration_loss = 0\n",
    "            iteration_loss+=(0.5*np.dot(self.weights,self.weights))\n",
    "            iteration_weights = self.weights\n",
    "            for point_num in range(X_train.shape[0]):\n",
    "                y_i = Y_train[point_num][0]\n",
    "                x_i = X_train[point_num]\n",
    "                if y_i*np.dot(self.weights,x_i) < 1:\n",
    "                    self.weights-=(self.learning_rate*(self.weights-self.C*y_i*x_i))\n",
    "                    iteration_loss+=self.C*(1-y_i*np.dot(iteration_weights,x_i))\n",
    "                else:\n",
    "                    self.weights-=(self.learning_rate*(self.weights))\n",
    "            print(\"Iteration #\" + str(iteration) + \" -- iteration loss: \" + str(iteration_loss))\n",
    "                \n",
    "    def predict(self, X_test):\n",
    "        ''' Method to run prediction, or testing on our given SVM model(s). To be defined. '''\n",
    "        predicted_labels = []\n",
    "        for test_index in range(X_test.shape[0]):\n",
    "            predicted_label = np.dot(self.weights,X_test[test_index])\n",
    "            if predicted_label >= 0:\n",
    "                predicted_labels.append(1)\n",
    "            else:\n",
    "                predicted_labels.append(-1)\n",
    "        return predicted_labels"
   ]
  },
  {
   "cell_type": "code",
   "execution_count": 8,
   "metadata": {},
   "outputs": [
    {
     "name": "stdout",
     "output_type": "stream",
     "text": [
      "Iteration #0 -- iteration loss: 5.126525451225338\n",
      "Iteration #1 -- iteration loss: 2.1452960543818884\n",
      "Iteration #2 -- iteration loss: 0.9248394010131086\n",
      "Iteration #3 -- iteration loss: 0.4208330293173082\n",
      "Iteration #4 -- iteration loss: 0.20997530069771408\n",
      "Iteration #5 -- iteration loss: 0.12021020490198026\n",
      "Iteration #6 -- iteration loss: 0.08097955745420721\n",
      "Iteration #7 -- iteration loss: 0.0631922616135502\n",
      "Iteration #8 -- iteration loss: 0.05479399258377941\n",
      "Iteration #9 -- iteration loss: 0.05061220844539252\n",
      "Iteration #10 -- iteration loss: 0.04841988235023965\n",
      "Iteration #11 -- iteration loss: 0.047214437209264354\n",
      "Iteration #12 -- iteration loss: 0.04652431455734039\n",
      "Iteration #13 -- iteration loss: 0.04611653989472849\n",
      "Iteration #14 -- iteration loss: 0.04586994617832972\n",
      "Iteration #15 -- iteration loss: 0.04571838281891815\n",
      "Iteration #16 -- iteration loss: 0.04562419776435295\n",
      "Iteration #17 -- iteration loss: 0.045565241268698646\n",
      "Iteration #18 -- iteration loss: 0.04552816096037178\n",
      "Iteration #19 -- iteration loss: 0.045504767931382854\n",
      "Iteration #20 -- iteration loss: 0.04548998080456645\n",
      "Iteration #21 -- iteration loss: 0.04548062185908524\n",
      "Iteration #22 -- iteration loss: 0.04547469372754069\n",
      "Iteration #23 -- iteration loss: 0.045470936824359175\n",
      "Iteration #24 -- iteration loss: 0.04546855514781292\n",
      "Iteration #25 -- iteration loss: 0.045467044981253146\n",
      "Iteration #26 -- iteration loss: 0.04546608729423655\n",
      "Iteration #27 -- iteration loss: 0.045465479917267036\n",
      "Iteration #28 -- iteration loss: 0.04546509469102515\n",
      "Iteration #29 -- iteration loss: 0.04546485035478482\n",
      "Iteration #30 -- iteration loss: 0.045464695377126246\n",
      "Iteration #31 -- iteration loss: 0.045464597076534795\n",
      "Iteration #32 -- iteration loss: 0.045464534725041125\n",
      "Iteration #33 -- iteration loss: 0.045464495175637595\n",
      "Iteration #34 -- iteration loss: 0.045464470089459405\n",
      "Iteration #35 -- iteration loss: 0.04546445417726757\n",
      "Iteration #36 -- iteration loss: 0.04546444408413175\n",
      "Iteration #37 -- iteration loss: 0.045464437682029686\n",
      "Iteration #38 -- iteration loss: 0.0454644336211575\n",
      "Iteration #39 -- iteration loss: 0.04546443104533339\n",
      "Iteration #40 -- iteration loss: 0.04546442941147972\n",
      "Iteration #41 -- iteration loss: 0.045464428375120707\n",
      "Iteration #42 -- iteration loss: 0.04546442771775464\n",
      "Iteration #43 -- iteration loss: 0.04546442730078505\n",
      "Iteration #44 -- iteration loss: 0.045464427036299736\n",
      "Iteration #45 -- iteration loss: 0.04546442686853575\n",
      "Iteration #46 -- iteration loss: 0.04546442676212251\n",
      "Iteration #47 -- iteration loss: 0.04546442669462422\n",
      "Iteration #48 -- iteration loss: 0.045464426651809844\n",
      "Iteration #49 -- iteration loss: 0.045464426624652526\n",
      "Iteration #50 -- iteration loss: 0.0454644266074265\n",
      "Iteration #51 -- iteration loss: 0.04546442659650004\n",
      "Iteration #52 -- iteration loss: 0.04546442658956925\n",
      "Iteration #53 -- iteration loss: 0.04546442658517306\n",
      "Iteration #54 -- iteration loss: 0.045464426582384546\n",
      "Iteration #55 -- iteration loss: 0.045464426580615794\n",
      "Iteration #56 -- iteration loss: 0.04546442657949391\n",
      "Iteration #57 -- iteration loss: 0.04546442657878221\n",
      "Iteration #58 -- iteration loss: 0.04546442657833082\n",
      "Iteration #59 -- iteration loss: 0.04546442657804451\n",
      "Iteration #60 -- iteration loss: 0.045464426577862926\n",
      "Iteration #61 -- iteration loss: 0.04546442657774765\n",
      "Iteration #62 -- iteration loss: 0.045464426577674605\n",
      "Iteration #63 -- iteration loss: 0.04546442657762826\n",
      "Iteration #64 -- iteration loss: 0.04546442657759889\n",
      "Iteration #65 -- iteration loss: 0.045464426577580215\n",
      "Iteration #66 -- iteration loss: 0.04546442657756836\n",
      "Iteration #67 -- iteration loss: 0.045464426577560876\n",
      "Iteration #68 -- iteration loss: 0.045464426577556144\n",
      "Iteration #69 -- iteration loss: 0.04546442657755313\n",
      "Iteration #70 -- iteration loss: 0.045464426577551155\n",
      "Iteration #71 -- iteration loss: 0.045464426577549975\n",
      "Iteration #72 -- iteration loss: 0.045464426577549163\n",
      "Iteration #73 -- iteration loss: 0.045464426577548685\n",
      "Iteration #74 -- iteration loss: 0.045464426577548386\n",
      "Iteration #75 -- iteration loss: 0.04546442657754819\n",
      "Iteration #76 -- iteration loss: 0.04546442657754808\n",
      "Iteration #77 -- iteration loss: 0.045464426577548005\n",
      "Iteration #78 -- iteration loss: 0.04546442657754796\n",
      "Iteration #79 -- iteration loss: 0.04546442657754793\n",
      "Iteration #80 -- iteration loss: 0.045464426577547914\n",
      "Iteration #81 -- iteration loss: 0.04546442657754791\n",
      "Iteration #82 -- iteration loss: 0.0454644265775479\n",
      "Iteration #83 -- iteration loss: 0.045464426577547894\n",
      "Iteration #84 -- iteration loss: 0.045464426577547894\n",
      "Iteration #85 -- iteration loss: 0.045464426577547894\n",
      "Iteration #86 -- iteration loss: 0.045464426577547894\n",
      "Iteration #87 -- iteration loss: 0.045464426577547894\n",
      "Iteration #88 -- iteration loss: 0.045464426577547894\n",
      "Iteration #89 -- iteration loss: 0.045464426577547894\n",
      "Iteration #90 -- iteration loss: 0.045464426577547894\n",
      "Iteration #91 -- iteration loss: 0.045464426577547894\n",
      "Iteration #92 -- iteration loss: 0.045464426577547894\n",
      "Iteration #93 -- iteration loss: 0.045464426577547894\n",
      "Iteration #94 -- iteration loss: 0.045464426577547894\n",
      "Iteration #95 -- iteration loss: 0.045464426577547894\n",
      "Iteration #96 -- iteration loss: 0.045464426577547894\n",
      "Iteration #97 -- iteration loss: 0.045464426577547894\n",
      "Iteration #98 -- iteration loss: 0.045464426577547894\n",
      "Iteration #99 -- iteration loss: 0.045464426577547894\n"
     ]
    }
   ],
   "source": [
    "binary_svm = BinarySVM()\n",
    "binary_svm.fit(X_train, Y_train)"
   ]
  },
  {
   "cell_type": "code",
   "execution_count": 9,
   "metadata": {},
   "outputs": [],
   "source": [
    "Y_test_pred = binary_svm.predict(X_test)"
   ]
  },
  {
   "cell_type": "code",
   "execution_count": 10,
   "metadata": {},
   "outputs": [
    {
     "name": "stdout",
     "output_type": "stream",
     "text": [
      "0.9649122807017544\n"
     ]
    }
   ],
   "source": [
    "accuracy = accuracy_score(Y_test, Y_test_pred)\n",
    "print(accuracy)"
   ]
  },
  {
   "cell_type": "markdown",
   "metadata": {},
   "source": [
    "## Confusion Matrix"
   ]
  },
  {
   "cell_type": "code",
   "execution_count": 12,
   "metadata": {},
   "outputs": [
    {
     "name": "stdout",
     "output_type": "stream",
     "text": [
      "[41  2  2 69]\n"
     ]
    },
    {
     "data": {
      "text/plain": [
       "[[<matplotlib.axis.YTick at 0x121bff128>,\n",
       "  <matplotlib.axis.YTick at 0x121bfc9b0>],\n",
       " [Text(0, 0, 'Benign'), Text(0, 0, 'Malignant')],\n",
       " Text(0, 0.5, 'True Label'),\n",
       " [<matplotlib.axis.XTick at 0x121bfc550>,\n",
       "  <matplotlib.axis.XTick at 0x121bf3e10>],\n",
       " [Text(0, 0, 'Benign'), Text(0, 0, 'Malignant')],\n",
       " Text(0.5, 0, 'Predicted Label'),\n",
       " Text(0.5, 1.0, 'Tumor Classification Confusion Matrix')]"
      ]
     },
     "execution_count": 12,
     "metadata": {},
     "output_type": "execute_result"
    },
    {
     "data": {
      "image/png": "[encoded data removed]",
      "text/plain": [
       "<Figure size 432x288 with 2 Axes>"
      ]
     },
     "metadata": {
      "needs_background": "light"
     },
     "output_type": "display_data"
    }
   ],
   "source": [
    "from sklearn.metrics import confusion_matrix\n",
    "import matplotlib.pyplot as plt\n",
    "\n",
    "cm = confusion_matrix(Y_test, Y_test_pred)\n",
    "print(cm.ravel())\n",
    "classes = [\"Benign\", \"Malignant\"]\n",
    "cmap = plt.cm.Blues\n",
    "fig, ax = plt.subplots()\n",
    "im = ax.imshow(cm, interpolation='nearest', cmap=cmap)\n",
    "ax.figure.colorbar(im, ax=ax)\n",
    "ax.set(xticks=np.arange(cm.shape[1]), yticks=np.arange(cm.shape[0]), title=\"Tumor Classification Confusion Matrix\", ylabel='True Label', xlabel='Predicted Label', yticklabels=classes, xticklabels=classes)"
   ]
  }
 ],
 "metadata": {
  "kernelspec": {
   "display_name": "Python 3",
   "language": "python",
   "name": "python3"
  },
  "language_info": {
   "codemirror_mode": {
    "name": "ipython",
    "version": 3
   },
   "file_extension": ".py",
   "mimetype": "text/x-python",
   "name": "python",
   "nbconvert_exporter": "python",
   "pygments_lexer": "ipython3",
   "version": "3.7.3"
  }
 },
 "nbformat": 4,
 "nbformat_minor": 2
}
